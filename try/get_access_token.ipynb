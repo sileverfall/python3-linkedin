{
 "cells": [
  {
   "cell_type": "code",
   "execution_count": 1,
   "metadata": {
    "collapsed": true
   },
   "outputs": [],
   "source": [
    "client_id = '81gkonewo2wknm'\n",
    "client_secret = 'TpUoSR3Pq1Aw9GoD'"
   ]
  },
  {
   "cell_type": "code",
   "execution_count": 2,
   "metadata": {
    "collapsed": true
   },
   "outputs": [],
   "source": [
    "authorization_base_url = 'https://www.linkedin.com/uas/oauth2/authorization'\n",
    "token_url = 'https://www.linkedin.com/uas/oauth2/accessToken'"
   ]
  },
  {
   "cell_type": "code",
   "execution_count": 3,
   "metadata": {
    "collapsed": true
   },
   "outputs": [],
   "source": [
    "from requests_oauthlib import OAuth2Session\n",
    "from requests_oauthlib.compliance_fixes import linkedin_compliance_fix"
   ]
  },
  {
   "cell_type": "code",
   "execution_count": 4,
   "metadata": {
    "collapsed": true,
    "scrolled": true
   },
   "outputs": [],
   "source": [
    "linkedin = OAuth2Session(client_id, redirect_uri='https://127.0.0.1')"
   ]
  },
  {
   "cell_type": "code",
   "execution_count": 5,
   "metadata": {
    "collapsed": true
   },
   "outputs": [],
   "source": [
    "linkedin = linkedin_compliance_fix(linkedin)"
   ]
  },
  {
   "cell_type": "code",
   "execution_count": 6,
   "metadata": {
    "collapsed": true
   },
   "outputs": [],
   "source": [
    "authorization_url, state = linkedin.authorization_url(authorization_base_url)"
   ]
  },
  {
   "cell_type": "code",
   "execution_count": 7,
   "metadata": {},
   "outputs": [
    {
     "name": "stdout",
     "output_type": "stream",
     "text": [
      "Please go here and authorize, https://www.linkedin.com/uas/oauth2/authorization?response_type=code&client_id=81gkonewo2wknm&redirect_uri=https%3A%2F%2F127.0.0.1&state=KJmFpdxEYoSa0kUHRyz7545UmV6Lrw\n"
     ]
    }
   ],
   "source": [
    "print ('Please go here and authorize,', authorization_url)"
   ]
  },
  {
   "cell_type": "code",
   "execution_count": 10,
   "metadata": {
    "scrolled": true
   },
   "outputs": [
    {
     "name": "stdout",
     "output_type": "stream",
     "text": [
      "Paste the full redirect URL here:https://127.0.0.1/?code=AQSevM16zFJE_hxdsNI-uWszcuaFAblJro9Uy1lL8wyCnSWjZVqjC29672dksO8UHePgCR9fLru8hCp7Q2ucx34YMzkRYtvR47h8U6RHTWdrH1yE6tZ6Xen734EO90arzskJvcLwBIuUt2DSSebD0TUXRSA11AUpAF_Pydnrnavdv3w52GDp_9GkbPDwEg&state=KJmFpdxEYoSa0kUHRyz7545UmV6Lrw\n"
     ]
    }
   ],
   "source": [
    "redirect_response = input('Paste the full redirect URL here:')"
   ]
  },
  {
   "cell_type": "code",
   "execution_count": 11,
   "metadata": {
    "scrolled": false
   },
   "outputs": [],
   "source": [
    "tokens = linkedin.fetch_token(token_url, client_secret=client_secret,authorization_response=redirect_response,include_client_id=True)"
   ]
  },
  {
   "cell_type": "code",
   "execution_count": 12,
   "metadata": {
    "scrolled": true
   },
   "outputs": [
    {
     "data": {
      "text/plain": [
       "{'access_token': 'AQUuGzOuZbZG_QXjxOt6O3KXj02Fitfr2fMiPFd1iynGg7tJD8xcKWvP5fkt5ZrXeJNgi85O_iod-hC2Y00_J4EWhJdfb0RotVTQpV1vRJ5rDKMgyBTwL2Ea7N9hEdf_4PrE-6WOwa1jlKPT7Q-TRseUYC_oSOmnUwOWSfq0Oe2sAqtJQCuyYFt5tefwN_vlN5PQfMnD9O_Rbr6PHY8KAibsnRsM7HeoQJT-rFDWfcB8ZslZC8G-1lmO7J9Fk3lk_WLc4dwVJuhaVWSCqSIwIGFA9TMTEiBsHSKCmn9F0HbaVwpfepfZ5SSuVn0tBpHJc86WXAUV2UKdXKGu5RV2_4ComihqJA',\n",
       " 'expires_at': 1571416210.159529,\n",
       " 'expires_in': 5184000,\n",
       " 'token_type': 'Bearer'}"
      ]
     },
     "execution_count": 12,
     "metadata": {},
     "output_type": "execute_result"
    }
   ],
   "source": [
    "tokens"
   ]
  },
  {
   "cell_type": "code",
   "execution_count": 27,
   "metadata": {},
   "outputs": [
    {
     "ename": "ImportError",
     "evalue": "cannot import name 'linkedin'",
     "output_type": "error",
     "traceback": [
      "\u001b[0;31m---------------------------------------------------------------------------\u001b[0m",
      "\u001b[0;31mImportError\u001b[0m                               Traceback (most recent call last)",
      "\u001b[0;32m<ipython-input-27-792a2f218256>\u001b[0m in \u001b[0;36m<module>\u001b[0;34m()\u001b[0m\n\u001b[0;32m----> 1\u001b[0;31m \u001b[0;32mfrom\u001b[0m \u001b[0mlinkedin\u001b[0m \u001b[0;32mimport\u001b[0m \u001b[0mlinkedin\u001b[0m\u001b[0;34m\u001b[0m\u001b[0m\n\u001b[0m",
      "\u001b[0;31mImportError\u001b[0m: cannot import name 'linkedin'"
     ]
    }
   ],
   "source": [
    "from linkedin import linkedin"
   ]
  },
  {
   "cell_type": "code",
   "execution_count": 28,
   "metadata": {
    "scrolled": false
   },
   "outputs": [
    {
     "ename": "AttributeError",
     "evalue": "'OAuth2Session' object has no attribute 'LinkedInApplication'",
     "output_type": "error",
     "traceback": [
      "\u001b[0;31m---------------------------------------------------------------------------\u001b[0m",
      "\u001b[0;31mAttributeError\u001b[0m                            Traceback (most recent call last)",
      "\u001b[0;32m<ipython-input-28-545d75d21bd3>\u001b[0m in \u001b[0;36m<module>\u001b[0;34m()\u001b[0m\n\u001b[0;32m----> 1\u001b[0;31m \u001b[0mapplication\u001b[0m \u001b[0;34m=\u001b[0m \u001b[0mlinkedin\u001b[0m\u001b[0;34m.\u001b[0m\u001b[0mLinkedInApplication\u001b[0m\u001b[0;34m(\u001b[0m\u001b[0mtoken\u001b[0m\u001b[0;34m=\u001b[0m\u001b[0mtokens\u001b[0m\u001b[0;34m[\u001b[0m\u001b[0;34m'access_token'\u001b[0m\u001b[0;34m]\u001b[0m\u001b[0;34m)\u001b[0m\u001b[0;34m\u001b[0m\u001b[0m\n\u001b[0m",
      "\u001b[0;31mAttributeError\u001b[0m: 'OAuth2Session' object has no attribute 'LinkedInApplication'"
     ]
    }
   ],
   "source": [
    "application = linkedin.LinkedInApplication(token=tokens['access_token'])"
   ]
  },
  {
   "cell_type": "code",
   "execution_count": 26,
   "metadata": {},
   "outputs": [
    {
     "name": "stdout",
     "output_type": "stream",
     "text": [
      "/bin/sh: pip: command not found\r\n"
     ]
    }
   ],
   "source": [
    "!pip install python3-linkedin"
   ]
  },
  {
   "cell_type": "code",
   "execution_count": null,
   "metadata": {
    "collapsed": true
   },
   "outputs": [],
   "source": []
  }
 ],
 "metadata": {
  "kernelspec": {
   "display_name": "Python 3",
   "language": "python",
   "name": "python3"
  },
  "language_info": {
   "codemirror_mode": {
    "name": "ipython",
    "version": 3
   },
   "file_extension": ".py",
   "mimetype": "text/x-python",
   "name": "python",
   "nbconvert_exporter": "python",
   "pygments_lexer": "ipython3",
   "version": "3.6.1"
  }
 },
 "nbformat": 4,
 "nbformat_minor": 2
}
