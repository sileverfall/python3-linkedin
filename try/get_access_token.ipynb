{
 "cells": [
  {
   "cell_type": "code",
   "execution_count": 1,
   "metadata": {},
   "outputs": [],
   "source": [
    "client_id = '81gkonewo2wknm'\n",
    "client_secret = 'TpUoSR3Pq1Aw9GoD'"
   ]
  },
  {
   "cell_type": "code",
   "execution_count": 2,
   "metadata": {},
   "outputs": [],
   "source": [
    "token_url = 'https://www.linkedin.com/oauth/v2/accessToken'\n",
    "authorization_base_url = 'https://www.linkedin.com/oauth/v2/authorization'"
   ]
  },
  {
   "cell_type": "code",
   "execution_count": 3,
   "metadata": {},
   "outputs": [],
   "source": [
    "from requests_oauthlib import OAuth2Session\n",
    "from requests_oauthlib.compliance_fixes import linkedin_compliance_fix"
   ]
  },
  {
   "cell_type": "code",
   "execution_count": 4,
   "metadata": {
    "scrolled": true
   },
   "outputs": [],
   "source": [
    "linkedin = OAuth2Session(client_id, redirect_uri='https://127.0.0.1',scope='r_liteprofile')"
   ]
  },
  {
   "cell_type": "code",
   "execution_count": 5,
   "metadata": {},
   "outputs": [],
   "source": [
    "linkedin = linkedin_compliance_fix(linkedin)"
   ]
  },
  {
   "cell_type": "code",
   "execution_count": 6,
   "metadata": {},
   "outputs": [],
   "source": [
    "authorization_url, state = linkedin.authorization_url(authorization_base_url)"
   ]
  },
  {
   "cell_type": "code",
   "execution_count": 7,
   "metadata": {},
   "outputs": [
    {
     "name": "stdout",
     "output_type": "stream",
     "text": [
      "Please go here and authorize, https://www.linkedin.com/oauth/v2/authorization?response_type=code&client_id=81gkonewo2wknm&redirect_uri=https%3A%2F%2F127.0.0.1&scope=r_liteprofile&state=IXQ7YBr4rRUxg0sG9o2MjJnYSGQRV1\n"
     ]
    }
   ],
   "source": [
    "print ('Please go here and authorize,', authorization_url)"
   ]
  },
  {
   "cell_type": "code",
   "execution_count": 8,
   "metadata": {
    "scrolled": true
   },
   "outputs": [
    {
     "name": "stdout",
     "output_type": "stream",
     "text": [
      "Paste the full redirect URL here:https://127.0.0.1/?code=AQTUnVsHVBOtlChwlqZZ-R-k2KSBcFw3bA0w6RC7MWsE0DrLiDEX_jZmYJ6tf5IPoR_hc-5VOWTKA-JTfoIx9jtYrCdnmykY5FcYoidTFY43oU5VpcMHFmbZWaZCF0FiUwkGICjruy1-yKIE2_3l3ffdYhrAq2H-VsUV-r7BrK7oNv2JEIUeIEeHDwp9jQ&state=IXQ7YBr4rRUxg0sG9o2MjJnYSGQRV1\n"
     ]
    }
   ],
   "source": [
    "redirect_response = input('Paste the full redirect URL here:')"
   ]
  },
  {
   "cell_type": "code",
   "execution_count": 9,
   "metadata": {
    "scrolled": true
   },
   "outputs": [],
   "source": [
    "tokens = linkedin.fetch_token(token_url, client_secret=client_secret,authorization_response=redirect_response,include_client_id=True)"
   ]
  },
  {
   "cell_type": "code",
   "execution_count": 10,
   "metadata": {
    "scrolled": true
   },
   "outputs": [
    {
     "data": {
      "text/plain": [
       "{'access_token': 'AQXBw-2-3Xzpm3CG18zpmXYpb4jrouqPvHOLQ0uhMan5NnX_klynfesCvidc5m8IcxT4sEHsPZP-oE-70Mc-YnDUcr6NLuMlL8pDc6BdrTAZugUiOYhl_LsV22SUJgc-bvi2FCAd0Fr7ZF6ByLRyTA1fo3FUb2ZOPz4cUwAJA-uQt9luCbRTNxy0FLcBmJlLPEiZvLIolODOoTce0Jshh3A4Fj0y7CTiQ9E1-TldYx80KwAx5MeqyNM5JNFloZkm3lpnTavK02Qnirany_g5dgPoWh19h1D754wA_-WB4cbbiWR05KuJ4lWfKpEU5xTNjfZqwK7hUnP8zGOr48IGXDR-SCv1Tg',\n",
       " 'expires_in': 5184000,\n",
       " 'token_type': 'Bearer',\n",
       " 'expires_at': 1571464696.390426}"
      ]
     },
     "execution_count": 10,
     "metadata": {},
     "output_type": "execute_result"
    }
   ],
   "source": [
    "tokens"
   ]
  },
  {
   "cell_type": "code",
   "execution_count": 24,
   "metadata": {},
   "outputs": [],
   "source": [
    "access_token = tokens['access_token']"
   ]
  },
  {
   "cell_type": "code",
   "execution_count": 11,
   "metadata": {
    "scrolled": false
   },
   "outputs": [],
   "source": [
    "from linkedin_v2 import linkedin"
   ]
  },
  {
   "cell_type": "code",
   "execution_count": 12,
   "metadata": {
    "scrolled": true
   },
   "outputs": [],
   "source": [
    "application = linkedin.LinkedInApplication(token=tokens['access_token'])"
   ]
  },
  {
   "cell_type": "code",
   "execution_count": 14,
   "metadata": {},
   "outputs": [
    {
     "data": {
      "text/plain": [
       "{'localizedLastName': 'Huang',\n",
       " 'lastName': {'localized': {'en_US': 'Huang'},\n",
       "  'preferredLocale': {'country': 'US', 'language': 'en'}},\n",
       " 'firstName': {'localized': {'en_US': 'Ning'},\n",
       "  'preferredLocale': {'country': 'US', 'language': 'en'}},\n",
       " 'id': 'ZGtRmK9GTB',\n",
       " 'localizedFirstName': 'Ning',\n",
       " 'numConnections': 0}"
      ]
     },
     "execution_count": 14,
     "metadata": {},
     "output_type": "execute_result"
    }
   ],
   "source": [
    "application.get_profile()"
   ]
  },
  {
   "cell_type": "code",
   "execution_count": 23,
   "metadata": {},
   "outputs": [],
   "source": [
    "import requests"
   ]
  },
  {
   "cell_type": "code",
   "execution_count": 28,
   "metadata": {},
   "outputs": [
    {
     "data": {
      "text/plain": [
       "{'serviceErrorCode': 0,\n",
       " 'message': 'Resource null does not exist',\n",
       " 'status': 404}"
      ]
     },
     "execution_count": 28,
     "metadata": {},
     "output_type": "execute_result"
    }
   ],
   "source": [
    "requests.get('https://api.linkedin.com/v2/companies::(1035,universal-name=apple)?is-company-admin=true',headers={\"Authorization\":f\"Bearer {access_token}\"}).json()"
   ]
  },
  {
   "cell_type": "code",
   "execution_count": 22,
   "metadata": {},
   "outputs": [
    {
     "data": {
      "text/plain": [
       "<Response [404]>"
      ]
     },
     "execution_count": 22,
     "metadata": {},
     "output_type": "execute_result"
    }
   ],
   "source": [
    "application.make_request('GET',f'https://api.linkedin.com/v2/companies?oauth2_access_token={token}')"
   ]
  },
  {
   "cell_type": "code",
   "execution_count": null,
   "metadata": {},
   "outputs": [],
   "source": []
  }
 ],
 "metadata": {
  "kernelspec": {
   "display_name": "Python 3",
   "language": "python",
   "name": "python3"
  },
  "language_info": {
   "codemirror_mode": {
    "name": "ipython",
    "version": 3
   },
   "file_extension": ".py",
   "mimetype": "text/x-python",
   "name": "python",
   "nbconvert_exporter": "python",
   "pygments_lexer": "ipython3",
   "version": "3.7.4"
  }
 },
 "nbformat": 4,
 "nbformat_minor": 2
}
