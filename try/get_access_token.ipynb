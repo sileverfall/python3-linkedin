{
 "cells": [
  {
   "cell_type": "code",
   "execution_count": 1,
   "metadata": {},
   "outputs": [],
   "source": [
    "client_id = '81gkonewo2wknm'\n",
    "client_secret = 'TpUoSR3Pq1Aw9GoD'"
   ]
  },
  {
   "cell_type": "code",
   "execution_count": 2,
   "metadata": {},
   "outputs": [],
   "source": [
    "token_url = 'https://www.linkedin.com/oauth/v2/accessToken'\n",
    "authorization_base_url = 'https://www.linkedin.com/oauth/v2/authorization'"
   ]
  },
  {
   "cell_type": "code",
   "execution_count": 3,
   "metadata": {},
   "outputs": [],
   "source": [
    "from requests_oauthlib import OAuth2Session\n",
    "from requests_oauthlib.compliance_fixes import linkedin_compliance_fix"
   ]
  },
  {
   "cell_type": "code",
   "execution_count": 4,
   "metadata": {
    "scrolled": true
   },
   "outputs": [],
   "source": [
    "linkedin = OAuth2Session(client_id, redirect_uri='https://127.0.0.1',scope='r_liteprofile r_emailaddress w_member_social',state='fooobar')"
   ]
  },
  {
   "cell_type": "code",
   "execution_count": 5,
   "metadata": {},
   "outputs": [],
   "source": [
    "linkedin = linkedin_compliance_fix(linkedin)"
   ]
  },
  {
   "cell_type": "code",
   "execution_count": 6,
   "metadata": {},
   "outputs": [],
   "source": [
    "authorization_url, state = linkedin.authorization_url(authorization_base_url)"
   ]
  },
  {
   "cell_type": "code",
   "execution_count": 7,
   "metadata": {
    "scrolled": true
   },
   "outputs": [
    {
     "data": {
      "text/plain": [
       "'fooobar'"
      ]
     },
     "execution_count": 7,
     "metadata": {},
     "output_type": "execute_result"
    }
   ],
   "source": [
    "state"
   ]
  },
  {
   "cell_type": "code",
   "execution_count": 9,
   "metadata": {
    "scrolled": true
   },
   "outputs": [
    {
     "name": "stdout",
     "output_type": "stream",
     "text": [
      "Please go here and authorize, https://www.linkedin.com/oauth/v2/authorization?response_type=code&client_id=81gkonewo2wknm&redirect_uri=https%3A%2F%2F127.0.0.1&scope=r_liteprofile+r_emailaddress+w_member_social&state=fooobar\n"
     ]
    }
   ],
   "source": [
    "print ('Please go here and authorize,', authorization_url)"
   ]
  },
  {
   "cell_type": "code",
   "execution_count": 10,
   "metadata": {
    "scrolled": true
   },
   "outputs": [
    {
     "name": "stdout",
     "output_type": "stream",
     "text": [
      "Paste the full redirect URL here:https://127.0.0.1/?code=AQQi9qHOc0BSsxwIEz183GvrULHoQ9GdS5eTVyBUVReHBbKkAnQYeOj8RV9aDdnyvp1OYuQrtP5P55CIxJjq8RJCFOpVZxO0nAtMrCQjJSnmqOqv4aEEKBltKA5b-tBppwECxsUwwHXJ5yPWGqUNFK2MBBYaLqXHhm2Jewx7gW7HQpG5fbxvR8iRwfv3fw&state=fooobar\n"
     ]
    }
   ],
   "source": [
    "redirect_response = input('Paste the full redirect URL here:')"
   ]
  },
  {
   "cell_type": "code",
   "execution_count": 11,
   "metadata": {
    "scrolled": true
   },
   "outputs": [],
   "source": [
    "tokens = linkedin.fetch_token(token_url, client_secret=client_secret,authorization_response=redirect_response,include_client_id=True)"
   ]
  },
  {
   "cell_type": "code",
   "execution_count": 12,
   "metadata": {
    "scrolled": true
   },
   "outputs": [
    {
     "data": {
      "text/plain": [
       "{'access_token': 'AQWB3eEcC7A5ICd43OuleW11BMo7CdFYMdd34madcse00YF82pctCvFRRnMq-GwxcXalLXn7VwZES3uqEeeF0FjsgGlHpODNMcKcL_qnCrNpawcxbaUWqV0WVxjl361-MeJaRWCY-tKR7rYKei6NPkKcj80xzYs8rqNdDKTMf3Ufrlbqe0KYqL9WlIOiMu_OmOgk--bRYqEZejNurBCqtT18S76YfE_bahsWZQDmlIITjfiAmsd3HPd_kSGh5U1796RJlUKtkIRfjPC2UPKbXyxNeo4aNN7Xkxy5jT93CtoMiLYhEKfTiaGOhqz4TMme-3sVprVNXLlge0pfXheHkxkzVCHIdg',\n",
       " 'expires_in': 5184000,\n",
       " 'token_type': 'Bearer',\n",
       " 'expires_at': 1572597941.3085263}"
      ]
     },
     "execution_count": 12,
     "metadata": {},
     "output_type": "execute_result"
    }
   ],
   "source": [
    "tokens"
   ]
  },
  {
   "cell_type": "code",
   "execution_count": 13,
   "metadata": {},
   "outputs": [],
   "source": [
    "access_token = tokens['access_token']"
   ]
  },
  {
   "cell_type": "code",
   "execution_count": 14,
   "metadata": {
    "scrolled": false
   },
   "outputs": [],
   "source": [
    "from linkedin_v2 import linkedin"
   ]
  },
  {
   "cell_type": "code",
   "execution_count": 15,
   "metadata": {},
   "outputs": [
    {
     "name": "stdout",
     "output_type": "stream",
     "text": [
      "['AccessToken', 'ENDPOINTS', 'LinkedInApplication', 'LinkedInAuthentication', 'LinkedInDeveloperAuthentication', 'LinkedInSelector', 'NETWORK_UPDATES', 'OAuth1', 'PERMISSIONS', 'StringIO', '__all__', '__builtins__', '__cached__', '__doc__', '__file__', '__loader__', '__name__', '__package__', '__spec__', 'contextlib', 'enum', 'hashlib', 'quote', 'raise_for_error', 'random', 'requests', 'to_utf8', 'unicode_literals']\n"
     ]
    }
   ],
   "source": [
    "print(dir(linkedin))"
   ]
  },
  {
   "cell_type": "code",
   "execution_count": 16,
   "metadata": {
    "scrolled": true
   },
   "outputs": [],
   "source": [
    "application = linkedin.LinkedInApplication(token=tokens['access_token'])"
   ]
  },
  {
   "cell_type": "code",
   "execution_count": 17,
   "metadata": {},
   "outputs": [
    {
     "name": "stdout",
     "output_type": "stream",
     "text": [
      "['BASE_URL', '__class__', '__delattr__', '__dict__', '__dir__', '__doc__', '__eq__', '__format__', '__ge__', '__getattribute__', '__gt__', '__hash__', '__init__', '__init_subclass__', '__le__', '__lt__', '__module__', '__ne__', '__new__', '__reduce__', '__reduce_ex__', '__repr__', '__setattr__', '__sizeof__', '__str__', '__subclasshook__', '__weakref__', 'authentication', 'get_connections', 'get_profile', 'make_request']\n"
     ]
    }
   ],
   "source": [
    "print(dir(application))"
   ]
  },
  {
   "cell_type": "code",
   "execution_count": 18,
   "metadata": {
    "scrolled": false
   },
   "outputs": [
    {
     "data": {
      "text/plain": [
       "{'localizedLastName': 'Huang',\n",
       " 'lastName': {'localized': {'en_US': 'Huang'},\n",
       "  'preferredLocale': {'country': 'US', 'language': 'en'}},\n",
       " 'firstName': {'localized': {'en_US': 'Ning'},\n",
       "  'preferredLocale': {'country': 'US', 'language': 'en'}},\n",
       " 'id': 'ZGtRmK9GTB',\n",
       " 'localizedFirstName': 'Ning',\n",
       " 'numConnections': 0}"
      ]
     },
     "execution_count": 18,
     "metadata": {},
     "output_type": "execute_result"
    }
   ],
   "source": [
    "application.get_profile()"
   ]
  },
  {
   "cell_type": "code",
   "execution_count": 27,
   "metadata": {},
   "outputs": [
    {
     "data": {
      "text/plain": [
       "<Response [999]>"
      ]
     },
     "execution_count": 27,
     "metadata": {},
     "output_type": "execute_result"
    }
   ],
   "source": [
    "application.make_request('GET','https://www.linkedin.com/voyager/api/typeahead/hitsV2?keywords=%E5%8F%B0%E6%B3%A5&origin=GLOBAL_SEARCH_HEADER&q=blended',headers={\"Connection\":'Keep-Alive'})"
   ]
  },
  {
   "cell_type": "code",
   "execution_count": 20,
   "metadata": {
    "scrolled": true
   },
   "outputs": [
    {
     "data": {
      "text/plain": [
       "{'serviceErrorCode': 100,\n",
       " 'message': 'Not enough permissions to access: GET-vanityName /organizations',\n",
       " 'status': 403}"
      ]
     },
     "execution_count": 20,
     "metadata": {},
     "output_type": "execute_result"
    }
   ],
   "source": [
    "# application.make_request('GET','https://api.linkedin.com/v2/organizations?q=vanityName&vanityName=tsmc',headers={\"Connection\":'Keep-Alive'}).json()"
   ]
  }
 ],
 "metadata": {
  "kernelspec": {
   "display_name": "Python 3",
   "language": "python",
   "name": "python3"
  },
  "language_info": {
   "codemirror_mode": {
    "name": "ipython",
    "version": 3
   },
   "file_extension": ".py",
   "mimetype": "text/x-python",
   "name": "python",
   "nbconvert_exporter": "python",
   "pygments_lexer": "ipython3",
   "version": "3.7.4"
  }
 },
 "nbformat": 4,
 "nbformat_minor": 2
}
