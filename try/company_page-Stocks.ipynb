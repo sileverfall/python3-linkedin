{
 "cells": [
  {
   "cell_type": "code",
   "execution_count": 1,
   "metadata": {},
   "outputs": [],
   "source": [
    "from selenium import webdriver\n",
    "from selenium.webdriver.chrome.options import Options as ChromeOptions\n",
    "from selenium.webdriver.common.action_chains import ActionChains\n",
    "from selenium.webdriver.common.by import By\n",
    "from selenium.webdriver.common.keys import Keys\n",
    "from selenium.webdriver.support import expected_conditions as EC\n",
    "from selenium.webdriver.support.wait import WebDriverWait"
   ]
  },
  {
   "cell_type": "code",
   "execution_count": 2,
   "metadata": {},
   "outputs": [],
   "source": [
    "# options = ChromeOptions()\n",
    "# options.add_argument('-incongnito')\n",
    "# options.add_argument(\"--headless\")\n",
    "# options.add_argument(f'user-agent={headers}')\n",
    "chromeDriverPath = \"./\"\n",
    "browser = webdriver.Chrome(executable_path=chromeDriverPath + 'chromedriver_linux')"
   ]
  },
  {
   "cell_type": "markdown",
   "metadata": {},
   "source": [
    "## login"
   ]
  },
  {
   "cell_type": "code",
   "execution_count": 3,
   "metadata": {},
   "outputs": [],
   "source": [
    "HOMEPAGE_URL = 'https://www.linkedin.com'"
   ]
  },
  {
   "cell_type": "code",
   "execution_count": 4,
   "metadata": {},
   "outputs": [],
   "source": [
    "browser.get(HOMEPAGE_URL)"
   ]
  },
  {
   "cell_type": "code",
   "execution_count": 5,
   "metadata": {},
   "outputs": [],
   "source": [
    "email = browser.find_element_by_css_selector('body > nav > section.sign-in-card.show > form > div.sign-in-form__inputs > div:nth-child(1) > input')"
   ]
  },
  {
   "cell_type": "code",
   "execution_count": 2,
   "metadata": {
    "scrolled": false
   },
   "outputs": [
    {
     "ename": "NameError",
     "evalue": "name 'email' is not defined",
     "output_type": "error",
     "traceback": [
      "\u001b[0;31m---------------------------------------------------------------------------\u001b[0m",
      "\u001b[0;31mNameError\u001b[0m                                 Traceback (most recent call last)",
      "\u001b[0;32m<ipython-input-2-d50170d46410>\u001b[0m in \u001b[0;36m<module>\u001b[0;34m\u001b[0m\n\u001b[0;32m----> 1\u001b[0;31m \u001b[0memail\u001b[0m\u001b[0;34m.\u001b[0m\u001b[0msend_keys\u001b[0m\u001b[0;34m(\u001b[0m\u001b[0;34m'**************'\u001b[0m\u001b[0;34m)\u001b[0m\u001b[0;34m\u001b[0m\u001b[0;34m\u001b[0m\u001b[0m\n\u001b[0m",
      "\u001b[0;31mNameError\u001b[0m: name 'email' is not defined"
     ]
    }
   ],
   "source": [
    "email.send_keys('**************')"
   ]
  },
  {
   "cell_type": "code",
   "execution_count": 7,
   "metadata": {},
   "outputs": [],
   "source": [
    "pwd = browser.fiss_selectond_element_by_cr('body > nav > section.sign-in-card.show > form > div.sign-in-form__inputs > div:nth-child(2) > input')"
   ]
  },
  {
   "cell_type": "code",
   "execution_count": 1,
   "metadata": {},
   "outputs": [
    {
     "ename": "NameError",
     "evalue": "name 'pwd' is not defined",
     "output_type": "error",
     "traceback": [
      "\u001b[0;31m---------------------------------------------------------------------------\u001b[0m",
      "\u001b[0;31mNameError\u001b[0m                                 Traceback (most recent call last)",
      "\u001b[0;32m<ipython-input-1-c874ab102a6b>\u001b[0m in \u001b[0;36m<module>\u001b[0;34m\u001b[0m\n\u001b[0;32m----> 1\u001b[0;31m \u001b[0mpwd\u001b[0m\u001b[0;34m.\u001b[0m\u001b[0msend_keys\u001b[0m\u001b[0;34m(\u001b[0m\u001b[0;34m'******88888'\u001b[0m\u001b[0;34m)\u001b[0m\u001b[0;34m\u001b[0m\u001b[0;34m\u001b[0m\u001b[0m\n\u001b[0m",
      "\u001b[0;31mNameError\u001b[0m: name 'pwd' is not defined"
     ]
    }
   ],
   "source": [
    "pwd.send_keys('******88888')"
   ]
  },
  {
   "cell_type": "code",
   "execution_count": 9,
   "metadata": {},
   "outputs": [],
   "source": [
    "pwd.send_keys(Keys.RETURN)"
   ]
  },
  {
   "cell_type": "markdown",
   "metadata": {},
   "source": [
    "## Search for company"
   ]
  },
  {
   "cell_type": "code",
   "execution_count": 35,
   "metadata": {},
   "outputs": [],
   "source": [
    "search_url = 'https://www.linkedin.com/search/results/companies/?origin=DISCOVER_FROM_SEARCH_HOME'\n",
    "browser.get(search_url)"
   ]
  },
  {
   "cell_type": "code",
   "execution_count": 36,
   "metadata": {},
   "outputs": [],
   "source": [
    "search_bar = browser.find_elements_by_css_selector('#ember32 > input')[0]"
   ]
  },
  {
   "cell_type": "code",
   "execution_count": 37,
   "metadata": {},
   "outputs": [],
   "source": [
    "search_bar.send_keys('台泥')"
   ]
  },
  {
   "cell_type": "code",
   "execution_count": 13,
   "metadata": {
    "scrolled": true
   },
   "outputs": [
    {
     "data": {
      "text/plain": [
       "['台泥(怀化)水泥有限公司 Company • Mining & Metals',\n",
       " 'TaiwanCement Corporation (台泥企業團) Company • Building Materials']"
      ]
     },
     "execution_count": 13,
     "metadata": {},
     "output_type": "execute_result"
    }
   ],
   "source": [
    "[i for i in browser.find_element_by_css_selector('#triggered-expanded-ember31').text.split('\\n') if 'Company' in i] "
   ]
  },
  {
   "cell_type": "code",
   "execution_count": 39,
   "metadata": {},
   "outputs": [
    {
     "data": {
      "text/plain": [
       "['',\n",
       " '<div id=\"ember339\" class=\"ember-view\"><div class=\"a11y-text\" aria-live=\"polite\">',\n",
       " '  Multiple suggestions. Use up and down keys to navigate',\n",
       " '</div>',\n",
       " '      <div aria-selected=\"false\" role=\"option\" id=\"ember341\" class=\"basic-typeahead__selectable typeahead-suggestion search-global-typeahead__suggestion ember-view\">                <div id=\"ember342\" class=\"search-typeahead-v2__hit search-typeahead-v2__hit--profile-entity ember-view\">    <div id=\"ember343\" class=\"ivm-image-view-model ember-view\">  <div id=\"ember344\" class=\"display-flex ivm-view-attr__img-wrapper ivm-view-attr__img-wrapper--use-img-tag ember-view\">  <div class=\"EntityPhoto-circle-2-ghost-person ivm-view-attr__ghost-entity \">',\n",
       " '<!---->  </div>',\n",
       " '</div>',\n",
       " '</div>',\n",
       " '<span class=\"search-typeahead-v2__hit-info truncate\">',\n",
       " '  <span class=\"search-typeahead-v2__hit-text t-14 t-black t-bold\">台泥刘旭</span>',\n",
       " '    <span class=\"search-typeahead-v2__hit-subtext t-14 t-black--light t-normal\">3rd+ • --</span>',\n",
       " '</span>',\n",
       " '</div>',\n",
       " '</div><div aria-selected=\"false\" role=\"option\" id=\"ember346\" class=\"basic-typeahead__selectable typeahead-suggestion search-global-typeahead__suggestion ember-view\">                <div id=\"ember347\" class=\"search-typeahead-v2__hit search-typeahead-v2__hit--non-profile-entity ember-view\">    <div id=\"ember348\" class=\"ivm-image-view-model ember-view\">  <div id=\"ember349\" class=\"display-flex ivm-view-attr__img-wrapper ivm-view-attr__img-wrapper--use-img-tag ember-view\">  <div class=\"EntityPhoto-square-2-ghost-company ivm-view-attr__ghost-entity \">',\n",
       " '<!---->  </div>',\n",
       " '</div>',\n",
       " '</div>',\n",
       " '<span class=\"search-typeahead-v2__hit-info truncate\">',\n",
       " '  <span class=\"search-typeahead-v2__hit-text t-14 t-black t-bold\">台泥(怀化)水泥有限公司</span>',\n",
       " '    <span class=\"search-typeahead-v2__hit-subtext t-14 t-black--light t-normal\">Company • Mining &amp; Metals</span>',\n",
       " '</span>',\n",
       " '</div>',\n",
       " '</div><div aria-selected=\"false\" role=\"option\" id=\"ember351\" class=\"basic-typeahead__selectable typeahead-suggestion search-global-typeahead__suggestion ember-view\">                <div id=\"ember352\" class=\"search-typeahead-v2__hit search-typeahead-v2__hit--non-profile-entity ember-view\">    <div id=\"ember353\" class=\"ivm-image-view-model ember-view\">  <div id=\"ember354\" class=\"display-flex ivm-view-attr__img-wrapper ivm-view-attr__img-wrapper--use-img-tag ember-view\"><!---->      <img class=\"lazy-image ivm-view-attr__img--centered EntityPhoto-square-2  loaded\" alt=\"TaiwanCement Corporation (台泥企業團)\" height=\"40\" width=\"40\" src=\"https://media.licdn.com/dms/image/C510BAQEcET2leT6CPQ/company-logo_100_100/0?e=1575504000&amp;v=beta&amp;t=ovgqb0Ly3clQdxwAVgCPb2_Y2u0KHVyXNFEVu7ViHwU\">',\n",
       " '</div>',\n",
       " '</div>',\n",
       " '<span class=\"search-typeahead-v2__hit-info truncate\">',\n",
       " '  <span class=\"search-typeahead-v2__hit-text t-14 t-black t-bold\">TaiwanCement Corporation (台泥企業團)</span>',\n",
       " '    <span class=\"search-typeahead-v2__hit-subtext t-14 t-black--light t-normal\">Company • Building Materials</span>',\n",
       " '</span>',\n",
       " '</div>',\n",
       " '</div><div aria-selected=\"false\" role=\"option\" id=\"ember356\" class=\"basic-typeahead__selectable typeahead-suggestion search-global-typeahead__suggestion ember-view\">                <div id=\"ember357\" class=\"search-typeahead-v2__hit search-typeahead-v2__hit--escape-hatch ember-view\"><!----><span class=\"search-typeahead-v2__hit-info truncate\">',\n",
       " '  <span class=\"search-typeahead-v2__hit-text t-14 t-black t-bold\">See all results for “台泥”</span>',\n",
       " '<!----></span>',\n",
       " '</div>',\n",
       " '</div>',\n",
       " '</div>  ']"
      ]
     },
     "execution_count": 39,
     "metadata": {},
     "output_type": "execute_result"
    }
   ],
   "source": [
    "browser.find_element_by_css_selector('#triggered-expanded-ember31').get_attribute('innerHTML').split('\\n')"
   ]
  },
  {
   "cell_type": "markdown",
   "metadata": {},
   "source": [
    "## company's page"
   ]
  },
  {
   "cell_type": "code",
   "execution_count": 14,
   "metadata": {},
   "outputs": [],
   "source": [
    "browser.get(companies[0][1])"
   ]
  },
  {
   "cell_type": "code",
   "execution_count": 15,
   "metadata": {
    "scrolled": true
   },
   "outputs": [
    {
     "data": {
      "text/plain": [
       "'See all 584,903 employees on LinkedIn'"
      ]
     },
     "execution_count": 15,
     "metadata": {},
     "output_type": "execute_result"
    }
   ],
   "source": [
    "browser.find_element_by_css_selector('#ember62 > span').text"
   ]
  },
  {
   "cell_type": "code",
   "execution_count": null,
   "metadata": {},
   "outputs": [],
   "source": [
    "browser.find_element_by_css_selector('#ember62 > span').text"
   ]
  }
 ],
 "metadata": {
  "kernelspec": {
   "display_name": "Python 3",
   "language": "python",
   "name": "python3"
  },
  "language_info": {
   "codemirror_mode": {
    "name": "ipython",
    "version": 3
   },
   "file_extension": ".py",
   "mimetype": "text/x-python",
   "name": "python",
   "nbconvert_exporter": "python",
   "pygments_lexer": "ipython3",
   "version": "3.7.4"
  }
 },
 "nbformat": 4,
 "nbformat_minor": 2
}
