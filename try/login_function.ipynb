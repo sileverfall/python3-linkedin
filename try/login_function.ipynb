{
 "cells": [
  {
   "cell_type": "code",
   "execution_count": 1,
   "metadata": {
    "scrolled": true
   },
   "outputs": [],
   "source": [
    "import sys\n",
    "import copy\n",
    "import time\n",
    "from urllib.parse import unquote\n",
    "import requests\n",
    "from urllib.parse import quote\n",
    "import re\n",
    "from lxml import etree"
   ]
  },
  {
   "cell_type": "code",
   "execution_count": 5,
   "metadata": {},
   "outputs": [],
   "source": [
    "def login(laccount, lpassword):\n",
    "    \"\"\" 根据账号密码登录linkedin \"\"\"\n",
    "    s = requests.Session()\n",
    "    r = s.get('https://www.linkedin.com/uas/login')\n",
    "    tree = etree.HTML(r.content)\n",
    "    loginCsrfParam = ''.join(tree.xpath('//input[@id=\"loginCsrfParam-login\"]/@value'))\n",
    "    csrfToken = ''.join(tree.xpath('//input[@id=\"csrfToken-login\"]/@value'))\n",
    "    sourceAlias = ''.join(tree.xpath('//input[@id=\"sourceAlias-login\"]/@value'))\n",
    "    isJsEnabled = ''.join(tree.xpath('//input[@name=\"isJsEnabled\"]/@value'))\n",
    "    source_app = ''.join(tree.xpath('//input[@name=\"source_app\"]/@value'))\n",
    "    tryCount = ''.join(tree.xpath('//input[@id=\"tryCount\"]/@value'))\n",
    "    clickedSuggestion = ''.join(tree.xpath('//input[@id=\"clickedSuggestion\"]/@value'))\n",
    "    signin = ''.join(tree.xpath('//input[@name=\"signin\"]/@value'))\n",
    "    session_redirect = ''.join(tree.xpath('//input[@name=\"session_redirect\"]/@value'))\n",
    "    trk = ''.join(tree.xpath('//input[@name=\"trk\"]/@value'))\n",
    "    fromEmail = ''.join(tree.xpath('//input[@name=\"fromEmail\"]/@value'))\n",
    "\n",
    "    payload = {\n",
    "        'isJsEnabled': isJsEnabled,\n",
    "        'source_app': source_app,\n",
    "        'tryCount': tryCount,\n",
    "        'clickedSuggestion': clickedSuggestion,\n",
    "        'session_key': laccount,\n",
    "        'session_password': lpassword,\n",
    "        'signin': signin,\n",
    "        'session_redirect': session_redirect,\n",
    "        'trk': trk,\n",
    "        'loginCsrfParam': loginCsrfParam,\n",
    "        'fromEmail': fromEmail,\n",
    "        'csrfToken': csrfToken,\n",
    "        'sourceAlias': sourceAlias\n",
    "    }\n",
    "    res = s.post('https://www.linkedin.com/uas/login-submit', data=payload)\n",
    "    return res"
   ]
  },
  {
   "cell_type": "code",
   "execution_count": 6,
   "metadata": {},
   "outputs": [],
   "source": [
    "login = login(laccount='tsb1071463@gmail.com', lpassword='Alisa-0504')  # 测试账号"
   ]
  },
  {
   "cell_type": "code",
   "execution_count": 7,
   "metadata": {},
   "outputs": [
    {
     "data": {
      "text/plain": [
       "'https://www.linkedin.com/checkpoint/lg/login?errorKey=unexpected_error'"
      ]
     },
     "execution_count": 7,
     "metadata": {},
     "output_type": "execute_result"
    }
   ],
   "source": [
    "login.url"
   ]
  },
  {
   "cell_type": "code",
   "execution_count": null,
   "metadata": {},
   "outputs": [],
   "source": []
  }
 ],
 "metadata": {
  "kernelspec": {
   "display_name": "Python 3",
   "language": "python",
   "name": "python3"
  },
  "language_info": {
   "codemirror_mode": {
    "name": "ipython",
    "version": 3
   },
   "file_extension": ".py",
   "mimetype": "text/x-python",
   "name": "python",
   "nbconvert_exporter": "python",
   "pygments_lexer": "ipython3",
   "version": "3.7.4"
  }
 },
 "nbformat": 4,
 "nbformat_minor": 2
}
