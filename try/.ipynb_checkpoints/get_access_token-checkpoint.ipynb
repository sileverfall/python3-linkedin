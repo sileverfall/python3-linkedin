{
 "cells": [
  {
   "cell_type": "code",
   "execution_count": 31,
   "metadata": {
    "collapsed": true
   },
   "outputs": [],
   "source": [
    "client_id = '81gkonewo2wknm'\n",
    "client_secret = 'TpUoSR3Pq1Aw9GoD'"
   ]
  },
  {
   "cell_type": "code",
   "execution_count": 32,
   "metadata": {
    "collapsed": true
   },
   "outputs": [],
   "source": [
    "token_url = 'https://www.linkedin.com/oauth/v2/accessToken'\n",
    "authorization_base_url = 'https://www.linkedin.com/oauth/v2/authorization'"
   ]
  },
  {
   "cell_type": "code",
   "execution_count": 33,
   "metadata": {
    "collapsed": true
   },
   "outputs": [],
   "source": [
    "from requests_oauthlib import OAuth2Session\n",
    "from requests_oauthlib.compliance_fixes import linkedin_compliance_fix"
   ]
  },
  {
   "cell_type": "code",
   "execution_count": 34,
   "metadata": {
    "collapsed": true,
    "scrolled": true
   },
   "outputs": [],
   "source": [
    "linkedin = OAuth2Session(client_id, redirect_uri='https://127.0.0.1',scope='r_liteprofile')"
   ]
  },
  {
   "cell_type": "code",
   "execution_count": 35,
   "metadata": {
    "collapsed": true
   },
   "outputs": [],
   "source": [
    "linkedin = linkedin_compliance_fix(linkedin)"
   ]
  },
  {
   "cell_type": "code",
   "execution_count": 36,
   "metadata": {
    "collapsed": true
   },
   "outputs": [],
   "source": [
    "authorization_url, state = linkedin.authorization_url(authorization_base_url)"
   ]
  },
  {
   "cell_type": "code",
   "execution_count": 37,
   "metadata": {},
   "outputs": [
    {
     "name": "stdout",
     "output_type": "stream",
     "text": [
      "Please go here and authorize, https://www.linkedin.com/oauth/v2/authorization?response_type=code&client_id=81gkonewo2wknm&redirect_uri=https%3A%2F%2F127.0.0.1&scope=r_liteprofile&state=3QLrljanYUR0qlfBBFlKIPrfxaYjwW\n"
     ]
    }
   ],
   "source": [
    "print ('Please go here and authorize,', authorization_url)"
   ]
  },
  {
   "cell_type": "code",
   "execution_count": 41,
   "metadata": {
    "scrolled": true
   },
   "outputs": [
    {
     "name": "stdout",
     "output_type": "stream",
     "text": [
      "Paste the full redirect URL here:https://127.0.0.1/?code=AQRTDGRqp5mO_-F1y1o40OZj3rpnYR8QUlXlWR6NzOsCQjRwAOk1zXDXDeuyZEIu2UbJCXaH8xXvVL3zAUv4D3IUu4fGMyOtKfyjosznMRPQQgEescXNWPfeADEYNqJx_faQdH3MjzHHM_U-3yyKGzNNGFLGsRWwsXxinA6FSI1Yyjrlf6AKKfpv_3X2TA&state=3QLrljanYUR0qlfBBFlKIPrfxaYjwW\n"
     ]
    }
   ],
   "source": [
    "redirect_response = input('Paste the full redirect URL here:')"
   ]
  },
  {
   "cell_type": "code",
   "execution_count": 42,
   "metadata": {
    "scrolled": true
   },
   "outputs": [],
   "source": [
    "tokens = linkedin.fetch_token(token_url, client_secret=client_secret,authorization_response=redirect_response,include_client_id=True)"
   ]
  },
  {
   "cell_type": "code",
   "execution_count": 43,
   "metadata": {
    "scrolled": true
   },
   "outputs": [
    {
     "data": {
      "text/plain": [
       "{'access_token': 'AQVTJ8sodseV6gYozG1J6YJC85CtSBkWcmSMCfsFf_xsanPzsGyYZzpHqcmklu95LsG6oRGpxajPh5xRxc1jRMuZpEP3vYd94WRyrzDiNRzgLq3LXLtkg2VpEbNvF8btTSvCZ1Cz4FrK100duoyaFFkcy2OSf3K5RNZRt8AvGqVHXXG1khk7cXZHJumSMJmsuRVG1m7k-G2huYYlhOaxMXgll1ZMGmQVunOIJLfhPC0ItKtirJFXFVk1SSF9yge-1tC3TnuIwL9UQ99nmbS7B3OoHoxsy5dAMmnaPvMiRVEE1WyWayP4PTBa17ItOOrxTmLZLI4Je8PqKx1OR851-zYIKnP4HQ',\n",
       " 'expires_at': 1571503051.251786,\n",
       " 'expires_in': 5183999,\n",
       " 'token_type': 'Bearer'}"
      ]
     },
     "execution_count": 43,
     "metadata": {},
     "output_type": "execute_result"
    }
   ],
   "source": [
    "tokens"
   ]
  },
  {
   "cell_type": "code",
   "execution_count": 44,
   "metadata": {
    "collapsed": true
   },
   "outputs": [],
   "source": [
    "access_token = tokens['access_token']"
   ]
  },
  {
   "cell_type": "code",
   "execution_count": 45,
   "metadata": {
    "scrolled": false
   },
   "outputs": [],
   "source": [
    "from linkedin_v2 import linkedin"
   ]
  },
  {
   "cell_type": "code",
   "execution_count": 46,
   "metadata": {},
   "outputs": [
    {
     "name": "stdout",
     "output_type": "stream",
     "text": [
      "['AccessToken', 'ENDPOINTS', 'LinkedInApplication', 'LinkedInAuthentication', 'LinkedInDeveloperAuthentication', 'LinkedInSelector', 'NETWORK_UPDATES', 'OAuth1', 'PERMISSIONS', 'StringIO', '__all__', '__builtins__', '__cached__', '__doc__', '__file__', '__loader__', '__name__', '__package__', '__spec__', 'contextlib', 'enum', 'hashlib', 'quote', 'raise_for_error', 'random', 'requests', 'to_utf8', 'unicode_literals']\n"
     ]
    }
   ],
   "source": [
    "print(dir(linkedin))"
   ]
  },
  {
   "cell_type": "code",
   "execution_count": 47,
   "metadata": {
    "scrolled": true
   },
   "outputs": [],
   "source": [
    "application = linkedin.LinkedInApplication(token=tokens['access_token'])"
   ]
  },
  {
   "cell_type": "code",
   "execution_count": 48,
   "metadata": {},
   "outputs": [
    {
     "name": "stdout",
     "output_type": "stream",
     "text": [
      "['BASE_URL', '__class__', '__delattr__', '__dict__', '__dir__', '__doc__', '__eq__', '__format__', '__ge__', '__getattribute__', '__gt__', '__hash__', '__init__', '__init_subclass__', '__le__', '__lt__', '__module__', '__ne__', '__new__', '__reduce__', '__reduce_ex__', '__repr__', '__setattr__', '__sizeof__', '__str__', '__subclasshook__', '__weakref__', 'authentication', 'get_connections', 'get_profile', 'make_request']\n"
     ]
    }
   ],
   "source": [
    "print(dir(application))"
   ]
  },
  {
   "cell_type": "code",
   "execution_count": 49,
   "metadata": {
    "scrolled": true
   },
   "outputs": [
    {
     "data": {
      "text/plain": [
       "{'firstName': {'localized': {'en_US': 'Ning'},\n",
       "  'preferredLocale': {'country': 'US', 'language': 'en'}},\n",
       " 'id': 'ZGtRmK9GTB',\n",
       " 'lastName': {'localized': {'en_US': 'Huang'},\n",
       "  'preferredLocale': {'country': 'US', 'language': 'en'}},\n",
       " 'localizedFirstName': 'Ning',\n",
       " 'localizedLastName': 'Huang',\n",
       " 'numConnections': 0}"
      ]
     },
     "execution_count": 49,
     "metadata": {},
     "output_type": "execute_result"
    }
   ],
   "source": [
    "application.get_profile()"
   ]
  },
  {
   "cell_type": "code",
   "execution_count": 25,
   "metadata": {},
   "outputs": [
    {
     "data": {
      "text/plain": [
       "<Response [403]>"
      ]
     },
     "execution_count": 25,
     "metadata": {},
     "output_type": "execute_result"
    }
   ],
   "source": [
    "application.make_request('GET','https://api.linkedin.com/v2/organizations/2414183')"
   ]
  },
  {
   "cell_type": "code",
   "execution_count": 50,
   "metadata": {
    "collapsed": true
   },
   "outputs": [],
   "source": [
    "import requests"
   ]
  },
  {
   "cell_type": "code",
   "execution_count": 55,
   "metadata": {},
   "outputs": [
    {
     "data": {
      "text/plain": [
       "{'message': 'Not enough permissions to access: GET /networkSizes/urn:li:organization:1234567',\n",
       " 'serviceErrorCode': 100,\n",
       " 'status': 403}"
      ]
     },
     "execution_count": 55,
     "metadata": {},
     "output_type": "execute_result"
    }
   ],
   "source": [
    "requests.get('https://api.linkedin.com/v2/networkSizes/urn:li:organization:1234567?edgeType=CompanyFollowedByMember',headers={\"Authorization\":f\"Bearer {access_token}\"}).json()"
   ]
  },
  {
   "cell_type": "code",
   "execution_count": null,
   "metadata": {
    "collapsed": true
   },
   "outputs": [],
   "source": [
    "## https://docs.microsoft.com/en-us/linkedin/marketing/integrations/community-management/organizations/organization-lookup-api?context=linkedin/compliance/context"
   ]
  }
 ],
 "metadata": {
  "kernelspec": {
   "display_name": "Python 3",
   "language": "python",
   "name": "python3"
  },
  "language_info": {
   "codemirror_mode": {
    "name": "ipython",
    "version": 3
   },
   "file_extension": ".py",
   "mimetype": "text/x-python",
   "name": "python",
   "nbconvert_exporter": "python",
   "pygments_lexer": "ipython3",
   "version": "3.6.1"
  }
 },
 "nbformat": 4,
 "nbformat_minor": 2
}
