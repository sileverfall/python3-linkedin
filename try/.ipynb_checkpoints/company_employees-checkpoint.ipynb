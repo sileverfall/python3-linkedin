{
 "cells": [
  {
   "cell_type": "code",
   "execution_count": 1,
   "metadata": {},
   "outputs": [],
   "source": [
    "from selenium import webdriver\n",
    "from selenium.webdriver.chrome.options import Options as ChromeOptions\n",
    "from selenium.webdriver.common.action_chains import ActionChains\n",
    "from selenium.webdriver.common.by import By\n",
    "from selenium.webdriver.common.keys import Keys\n",
    "from selenium.webdriver.support import expected_conditions as EC\n",
    "from selenium.webdriver.support.wait import WebDriverWait"
   ]
  },
  {
   "cell_type": "code",
   "execution_count": 2,
   "metadata": {},
   "outputs": [],
   "source": [
    "# options = ChromeOptions()\n",
    "# options.add_argument('-incongnito')\n",
    "# options.add_argument(\"--headless\")\n",
    "# options.add_argument(f'user-agent={headers}')\n",
    "chromeDriverPath = \"./\"\n",
    "browser = webdriver.Chrome(executable_path=chromeDriverPath + 'chromedriver_linux')"
   ]
  },
  {
   "cell_type": "markdown",
   "metadata": {},
   "source": [
    "## login"
   ]
  },
  {
   "cell_type": "code",
   "execution_count": 3,
   "metadata": {},
   "outputs": [],
   "source": [
    "HOMEPAGE_URL = 'https://www.linkedin.com'"
   ]
  },
  {
   "cell_type": "code",
   "execution_count": 4,
   "metadata": {},
   "outputs": [],
   "source": [
    "browser.get(HOMEPAGE_URL)"
   ]
  },
  {
   "cell_type": "code",
   "execution_count": 5,
   "metadata": {},
   "outputs": [],
   "source": [
    "email = browser.find_element_by_css_selector('body > nav > section.sign-in-card.show > form > div.sign-in-form__inputs > div:nth-child(1) > input')"
   ]
  },
  {
   "cell_type": "code",
   "execution_count": 6,
   "metadata": {
    "scrolled": false
   },
   "outputs": [],
   "source": [
    "email.send_keys('*************')"
   ]
  },
  {
   "cell_type": "code",
   "execution_count": 7,
   "metadata": {},
   "outputs": [],
   "source": [
    "pwd = browser.find_element_by_css_selector('body > nav > section.sign-in-card.show > form > div.sign-in-form__inputs > div:nth-child(2) > input')"
   ]
  },
  {
   "cell_type": "code",
   "execution_count": 8,
   "metadata": {},
   "outputs": [],
   "source": [
    "pwd.send_keys('*************')"
   ]
  },
  {
   "cell_type": "code",
   "execution_count": 9,
   "metadata": {},
   "outputs": [],
   "source": [
    "pwd.send_keys(Keys.RETURN)"
   ]
  },
  {
   "cell_type": "markdown",
   "metadata": {},
   "source": [
    "## Company page"
   ]
  },
  {
   "cell_type": "code",
   "execution_count": 10,
   "metadata": {},
   "outputs": [],
   "source": [
    "with open('./companies.txt','r') as f :\n",
    "    a = f.read()"
   ]
  },
  {
   "cell_type": "code",
   "execution_count": 11,
   "metadata": {},
   "outputs": [],
   "source": [
    "a = a.split('\\n')"
   ]
  },
  {
   "cell_type": "code",
   "execution_count": 17,
   "metadata": {},
   "outputs": [],
   "source": [
    "def get_companyDic(companyList):\n",
    "    coms=list()\n",
    "    for _,com in enumerate(companyList):\n",
    "        if _<=10:\n",
    "            c = com.split(',')\n",
    "            company = c[0]\n",
    "            company_url = c[-1]\n",
    "            try:\n",
    "                browser.get(company_url)\n",
    "                ta = browser.find_element_by_xpath(\"//*[contains(text(), '全部 ')]\")\n",
    "                out_com={\n",
    "                    'company':company,\n",
    "                    'company_url':company_url,\n",
    "                    'employee_size':ta.text.split(' ')[1],\n",
    "                    'employee_page':ta.get_attribute('href')\n",
    "                }\n",
    "                coms.append(out_com)\n",
    "            except Exception as e:\n",
    "                print(company)\n",
    "                print(company_url)\n",
    "                print(e)\n",
    "    return coms"
   ]
  },
  {
   "cell_type": "code",
   "execution_count": 18,
   "metadata": {
    "scrolled": false
   },
   "outputs": [
    {
     "name": "stdout",
     "output_type": "stream",
     "text": [
      "CPU times: user 68.4 ms, sys: 0 ns, total: 68.4 ms\n",
      "Wall time: 38.5 s\n"
     ]
    }
   ],
   "source": [
    "%time CompanyList = get_companyDic(a)"
   ]
  },
  {
   "cell_type": "code",
   "execution_count": 19,
   "metadata": {},
   "outputs": [
    {
     "data": {
      "text/plain": [
       "{'company': 'IBM',\n",
       " 'company_url': 'https://www.linkedin.com/company/1009/',\n",
       " 'employee_size': '585,802',\n",
       " 'employee_page': None}"
      ]
     },
     "execution_count": 19,
     "metadata": {},
     "output_type": "execute_result"
    }
   ],
   "source": [
    "CompanyList[0]"
   ]
  },
  {
   "cell_type": "code",
   "execution_count": 20,
   "metadata": {},
   "outputs": [
    {
     "data": {
      "text/plain": [
       "11"
      ]
     },
     "execution_count": 20,
     "metadata": {},
     "output_type": "execute_result"
    }
   ],
   "source": [
    "len(CompanyList)"
   ]
  },
  {
   "cell_type": "code",
   "execution_count": null,
   "metadata": {},
   "outputs": [],
   "source": []
  }
 ],
 "metadata": {
  "kernelspec": {
   "display_name": "Python 3",
   "language": "python",
   "name": "python3"
  },
  "language_info": {
   "codemirror_mode": {
    "name": "ipython",
    "version": 3
   },
   "file_extension": ".py",
   "mimetype": "text/x-python",
   "name": "python",
   "nbconvert_exporter": "python",
   "pygments_lexer": "ipython3",
   "version": "3.7.4"
  }
 },
 "nbformat": 4,
 "nbformat_minor": 2
}
