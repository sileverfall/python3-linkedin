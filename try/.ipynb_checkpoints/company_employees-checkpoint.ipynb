{
 "cells": [
  {
   "cell_type": "code",
   "execution_count": 1,
   "metadata": {},
   "outputs": [],
   "source": [
    "from selenium import webdriver\n",
    "from selenium.webdriver.chrome.options import Options as ChromeOptions\n",
    "from selenium.webdriver.common.action_chains import ActionChains\n",
    "from selenium.webdriver.common.by import By\n",
    "from selenium.webdriver.common.keys import Keys\n",
    "from selenium.webdriver.support import expected_conditions as EC\n",
    "from selenium.webdriver.support.wait import WebDriverWait"
   ]
  },
  {
   "cell_type": "code",
   "execution_count": 2,
   "metadata": {},
   "outputs": [],
   "source": [
    "# options = ChromeOptions()\n",
    "# options.add_argument('-incongnito')\n",
    "# options.add_argument(\"--headless\")\n",
    "# options.add_argument(f'user-agent={headers}')\n",
    "chromeDriverPath = \"./\"\n",
    "browser = webdriver.Chrome(executable_path=chromeDriverPath + 'chromedriver_linux')"
   ]
  },
  {
   "cell_type": "markdown",
   "metadata": {},
   "source": [
    "## login"
   ]
  },
  {
   "cell_type": "code",
   "execution_count": 3,
   "metadata": {},
   "outputs": [],
   "source": [
    "HOMEPAGE_URL = 'https://www.linkedin.com'"
   ]
  },
  {
   "cell_type": "code",
   "execution_count": 29,
   "metadata": {},
   "outputs": [],
   "source": [
    "browser.get(HOMEPAGE_URL)"
   ]
  },
  {
   "cell_type": "code",
   "execution_count": 5,
   "metadata": {},
   "outputs": [],
   "source": [
    "email = browser.find_element_by_css_selector('body > nav > section.sign-in-card.show > form > div.sign-in-form__inputs > div:nth-child(1) > input')"
   ]
  },
  {
   "cell_type": "code",
   "execution_count": 6,
   "metadata": {
    "scrolled": false
   },
   "outputs": [],
   "source": [
    "email.send_keys('tsb1071463@gmail.com')"
   ]
  },
  {
   "cell_type": "code",
   "execution_count": 7,
   "metadata": {},
   "outputs": [],
   "source": [
    "pwd = browser.find_element_by_css_selector('body > nav > section.sign-in-card.show > form > div.sign-in-form__inputs > div:nth-child(2) > input')"
   ]
  },
  {
   "cell_type": "code",
   "execution_count": 8,
   "metadata": {},
   "outputs": [],
   "source": [
    "pwd.send_keys('Alisa-0504')"
   ]
  },
  {
   "cell_type": "code",
   "execution_count": 9,
   "metadata": {},
   "outputs": [],
   "source": [
    "pwd.send_keys(Keys.RETURN)"
   ]
  },
  {
   "cell_type": "markdown",
   "metadata": {},
   "source": [
    "## Company page"
   ]
  },
  {
   "cell_type": "code",
   "execution_count": 13,
   "metadata": {},
   "outputs": [],
   "source": [
    "browser.get('https://www.linkedin.com/company/1756/')"
   ]
  },
  {
   "cell_type": "code",
   "execution_count": 23,
   "metadata": {},
   "outputs": [
    {
     "data": {
      "text/plain": [
       "'158,293'"
      ]
     },
     "execution_count": 23,
     "metadata": {},
     "output_type": "execute_result"
    }
   ],
   "source": [
    "browser.find_element_by_css_selector('#ember64').text.split(' ')[2]"
   ]
  },
  {
   "cell_type": "code",
   "execution_count": 17,
   "metadata": {
    "scrolled": true
   },
   "outputs": [
    {
     "data": {
      "text/plain": [
       "'https://www.linkedin.com/search/results/people/?facetCurrentCompany=%5B%221756%22%2C%225254%22%2C%221755%22%2C%221773815%22%2C%2221484%22%5D'"
      ]
     },
     "execution_count": 17,
     "metadata": {},
     "output_type": "execute_result"
    }
   ],
   "source": [
    "browser.find_element_by_css_selector('#ember64').get_attribute('href')"
   ]
  },
  {
   "cell_type": "code",
   "execution_count": 37,
   "metadata": {},
   "outputs": [],
   "source": [
    "with open('./companies.txt','r') as f :\n",
    "    a = f.read()"
   ]
  },
  {
   "cell_type": "code",
   "execution_count": 40,
   "metadata": {},
   "outputs": [],
   "source": [
    "a = a.split('\\n')"
   ]
  },
  {
   "cell_type": "code",
   "execution_count": 41,
   "metadata": {
    "scrolled": true
   },
   "outputs": [
    {
     "data": {
      "text/plain": [
       "'https://www.linkedin.com/company/1009/'"
      ]
     },
     "execution_count": 41,
     "metadata": {},
     "output_type": "execute_result"
    }
   ],
   "source": [
    "a[0].split(',')[1]"
   ]
  },
  {
   "cell_type": "code",
   "execution_count": 61,
   "metadata": {},
   "outputs": [],
   "source": [
    "def get_companyDic(companyList):\n",
    "    coms=list()\n",
    "    for com in companyList:\n",
    "        c = com.split(',')\n",
    "        company = c[0]\n",
    "        company_url = c[1]\n",
    "        try:\n",
    "            browser.get(company_url)\n",
    "            ta = browser.find_element_by_xpath(\"//*[contains(text(), 'See all ')]\")\n",
    "            out_com={\n",
    "                'company':company,\n",
    "                'company_url':company_url,\n",
    "                'employee_size':ta.text.split(' ')[2],\n",
    "                'employee_page':ta.get_attribute('href')\n",
    "            }\n",
    "            CompanyList = coms.append(out_com)\n",
    "        except Exception as e:\n",
    "            print(company)\n",
    "            print(company_url)\n",
    "            print(e)\n",
    "    return CompanyList"
   ]
  },
  {
   "cell_type": "code",
   "execution_count": null,
   "metadata": {
    "scrolled": true
   },
   "outputs": [
    {
     "name": "stdout",
     "output_type": "stream",
     "text": [
      "Verizon\n",
      "https://www.linkedin.com/company/1103/\n",
      "list index out of range\n",
      "NBCUniversal Media\n",
      " LLC\n",
      "Message: invalid argument\n",
      "  (Session info: chrome=76.0.3809.100)\n",
      "\n",
      "Lowe's Companies\n",
      " Inc.\n",
      "Message: invalid argument\n",
      "  (Session info: chrome=76.0.3809.100)\n",
      "\n",
      "Turner (Turner Broadcasting System\n",
      " Inc)\n",
      "Message: invalid argument\n",
      "  (Session info: chrome=76.0.3809.100)\n",
      "\n",
      "Anthem\n",
      " Inc.\n",
      "Message: invalid argument\n",
      "  (Session info: chrome=76.0.3809.100)\n",
      "\n",
      "Aetna\n",
      " a CVS Health Company\n",
      "Message: invalid argument\n",
      "  (Session info: chrome=76.0.3809.100)\n",
      "\n",
      "Baker Hughes\n",
      " a GE company\n",
      "Message: invalid argument\n",
      "  (Session info: chrome=76.0.3809.100)\n",
      "\n",
      "KBR\n",
      " Inc.\n",
      "Message: invalid argument\n",
      "  (Session info: chrome=76.0.3809.100)\n",
      "\n",
      "The TJX Companies\n",
      " Inc.\n",
      "Message: invalid argument\n",
      "  (Session info: chrome=76.0.3809.100)\n",
      "\n",
      "Starwood Hotels & Resorts Worldwide\n",
      " Inc.\n",
      "Message: invalid argument\n",
      "  (Session info: chrome=76.0.3809.100)\n",
      "\n",
      "Cameron\n",
      " a Schlumberger company\n",
      "Message: invalid argument\n",
      "  (Session info: chrome=76.0.3809.100)\n",
      "\n",
      "URS Corporation\n",
      " An AECOM Company\n",
      "Message: invalid argument\n",
      "  (Session info: chrome=76.0.3809.100)\n",
      "\n",
      "The North Face\n",
      " a VF Company\n",
      "Message: invalid argument\n",
      "  (Session info: chrome=76.0.3809.100)\n",
      "\n",
      "Mattel\n",
      " Inc.\n",
      "Message: invalid argument\n",
      "  (Session info: chrome=76.0.3809.100)\n",
      "\n",
      "Vans\n",
      " a VF Company\n",
      "Message: invalid argument\n",
      "  (Session info: chrome=76.0.3809.100)\n",
      "\n",
      "Ross Stores\n",
      " Inc.\n",
      "Message: invalid argument\n",
      "  (Session info: chrome=76.0.3809.100)\n",
      "\n",
      "Ryder System\n",
      " Inc.\n",
      "Message: invalid argument\n",
      "  (Session info: chrome=76.0.3809.100)\n",
      "\n",
      "Nalco Water\n",
      " An Ecolab Company\n",
      "Message: invalid argument\n",
      "  (Session info: chrome=76.0.3809.100)\n",
      "\n",
      "GUESS?\n",
      " Inc.\n",
      "Message: invalid argument\n",
      "  (Session info: chrome=76.0.3809.100)\n",
      "\n",
      "Santander Bank\n",
      " N.A.\n",
      "Message: invalid argument\n",
      "  (Session info: chrome=76.0.3809.100)\n",
      "\n"
     ]
    }
   ],
   "source": [
    "%time CompanyList = get_companyDic(a)"
   ]
  },
  {
   "cell_type": "code",
   "execution_count": 60,
   "metadata": {},
   "outputs": [],
   "source": [
    "CompanyList"
   ]
  },
  {
   "cell_type": "code",
   "execution_count": null,
   "metadata": {},
   "outputs": [],
   "source": []
  }
 ],
 "metadata": {
  "kernelspec": {
   "display_name": "Python 3",
   "language": "python",
   "name": "python3"
  },
  "language_info": {
   "codemirror_mode": {
    "name": "ipython",
    "version": 3
   },
   "file_extension": ".py",
   "mimetype": "text/x-python",
   "name": "python",
   "nbconvert_exporter": "python",
   "pygments_lexer": "ipython3",
   "version": "3.7.4"
  }
 },
 "nbformat": 4,
 "nbformat_minor": 2
}
